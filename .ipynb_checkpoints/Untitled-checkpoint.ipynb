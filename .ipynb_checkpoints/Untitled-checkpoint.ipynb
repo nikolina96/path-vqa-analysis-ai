{
 "cells": [
  {
   "cell_type": "code",
   "execution_count": 14,
   "id": "92b43892-f77a-41bc-a06a-1db11c374ed8",
   "metadata": {},
   "outputs": [],
   "source": [
    "import os\n",
    "import datasets\n",
    "import replicate"
   ]
  },
  {
   "cell_type": "code",
   "execution_count": 6,
   "id": "31254781-5277-4ce2-b913-b33714ce3c01",
   "metadata": {},
   "outputs": [
    {
     "name": "stderr",
     "output_type": "stream",
     "text": [
      "/var/folders/kl/t8hvb6bs34j5f7tzr420b6yh0000gn/T/ipykernel_7423/1000474646.py:1: FutureWarning: list_datasets is deprecated and will be removed in the next major version of datasets. Use 'huggingface_hub.list_datasets' instead.\n",
      "  all_datasets = datasets.list_datasets()\n"
     ]
    },
    {
     "data": {
      "text/plain": [
       "190160"
      ]
     },
     "execution_count": 6,
     "metadata": {},
     "output_type": "execute_result"
    }
   ],
   "source": [
    "all_datasets = datasets.list_datasets()\n",
    "len(all_datasets)"
   ]
  },
  {
   "cell_type": "code",
   "execution_count": 7,
   "id": "6b7411a1-ebce-47d9-9900-bf6780ee165f",
   "metadata": {},
   "outputs": [],
   "source": [
    "ds = datasets.load_dataset('flaviagiammarino/path-vqa')"
   ]
  },
  {
   "cell_type": "code",
   "execution_count": 8,
   "id": "b52a5875-3478-41a4-80f3-a1c55760794c",
   "metadata": {},
   "outputs": [
    {
     "name": "stdout",
     "output_type": "stream",
     "text": [
      "DatasetDict({\n",
      "    train: Dataset({\n",
      "        features: ['image', 'question', 'answer'],\n",
      "        num_rows: 19654\n",
      "    })\n",
      "    validation: Dataset({\n",
      "        features: ['image', 'question', 'answer'],\n",
      "        num_rows: 6259\n",
      "    })\n",
      "    test: Dataset({\n",
      "        features: ['image', 'question', 'answer'],\n",
      "        num_rows: 6719\n",
      "    })\n",
      "})\n"
     ]
    }
   ],
   "source": [
    "print(ds)"
   ]
  },
  {
   "cell_type": "code",
   "execution_count": 25,
   "id": "709fc679-de4b-4007-b69a-630cf1556efc",
   "metadata": {},
   "outputs": [
    {
     "name": "stdout",
     "output_type": "stream",
     "text": [
      "where are liver stem cells (oval cells) located?\n",
      "what are stained here with an immunohistochemical stain for cytokeratin 7?\n",
      "what do the areas of white chalky deposits represent?\n",
      "is embolus derived from a lower-extremity deep venous thrombus lodged in a pulmonary artery branch?\n",
      "how is hyperplasia without atypia characterized?\n",
      "is normal palmar creases present?\n",
      "where is this from?\n",
      "what is present?\n",
      "what is present?\n",
      "what is present?\n"
     ]
    }
   ],
   "source": [
    "questions = []\n",
    "for train_sample_txt in ds['train']['question'][:10]:\n",
    "    print(train_sample_txt)\n",
    "    questions.append(train_sample_txt)"
   ]
  },
  {
   "cell_type": "code",
   "execution_count": 27,
   "id": "47954919-1a0d-4fec-be9b-1890e19002e9",
   "metadata": {},
   "outputs": [
    {
     "data": {
      "text/plain": [
       "\"['where are liver stem cells (oval cells) located?', 'what are stained here with an immunohistochemical stain for cytokeratin 7?', 'what do the areas of white chalky deposits represent?', 'is embolus derived from a lower-extremity deep venous thrombus lodged in a pulmonary artery branch?', 'how is hyperplasia without atypia characterized?', 'is normal palmar creases present?', 'where is this from?', 'what is present?', 'what is present?', 'what is present?']\""
      ]
     },
     "execution_count": 27,
     "metadata": {},
     "output_type": "execute_result"
    }
   ],
   "source": [
    "str(questions)"
   ]
  },
  {
   "cell_type": "code",
   "execution_count": 15,
   "id": "b80ed420-1eeb-46ab-930d-e5f7edf47e4a",
   "metadata": {},
   "outputs": [],
   "source": [
    "os.environ[\"REPLICATE_API_TOKEN\"] = 'r8_IG3urlz3pCOTmJ4Cj5cufVBcpkbI9X31FohnJ'"
   ]
  },
  {
   "cell_type": "code",
   "execution_count": 29,
   "id": "96756a63-7c37-4882-8c9d-26f41c64cb2d",
   "metadata": {},
   "outputs": [
    {
     "name": "stdout",
     "output_type": "stream",
     "text": [
      " Based on the subsample of questions you provided, it appears that the dataset is related to medical or biological sciences, specifically in the field of histopathology or pathology.\n",
      "\n",
      "The questions in the dataset seem to be asking about various aspects of tissue samples, such as the location of certain cells or structures, the presence of certain substances or deposits, and the characteristics of cellular growth or changes.\n",
      "\n",
      "Some of the questions are asking about specific medical conditions, such as deep venous thrombus or hyperplasia, which suggests that the dataset may be used for training or testing medical professionals, researchers, or students in the field of pathology or related fields.\n",
      "\n",
      "Without more information or context, it's difficult to provide a more specific description of the dataset or its purpose. However, based on the questions you've provided, it appears to be a valuable resource for those interested in the study of pathology or related fields."
     ]
    }
   ],
   "source": [
    "# The meta/llama-2-70b-chat model can stream output as it's running.\n",
    "for event in replicate.stream(\n",
    "    \"meta/llama-2-70b-chat\",\n",
    "    input={\n",
    "        \"prompt\": \"I have QA dataset and here is a subsample of my questions, consider content between ' ' as a separate question \" + str(questions)\n",
    "        + \"this is a ground truth dataset, tell me what is it about\"\n",
    "    },\n",
    "):\n",
    "    print(str(event), end=\"\")"
   ]
  },
  {
   "cell_type": "code",
   "execution_count": null,
   "id": "f61b8238-19af-4c8f-a57f-ed9761d7a675",
   "metadata": {},
   "outputs": [],
   "source": []
  }
 ],
 "metadata": {
  "kernelspec": {
   "display_name": "Python 3 (ipykernel)",
   "language": "python",
   "name": "python3"
  },
  "language_info": {
   "codemirror_mode": {
    "name": "ipython",
    "version": 3
   },
   "file_extension": ".py",
   "mimetype": "text/x-python",
   "name": "python",
   "nbconvert_exporter": "python",
   "pygments_lexer": "ipython3",
   "version": "3.12.4"
  }
 },
 "nbformat": 4,
 "nbformat_minor": 5
}
