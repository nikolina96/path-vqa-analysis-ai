{
 "cells": [
  {
   "cell_type": "markdown",
   "id": "b7db508b-5faf-4f69-a54b-241d47403e09",
   "metadata": {},
   "source": [
    "What can Llama tell me about my medical text descriptions?"
   ]
  },
  {
   "cell_type": "code",
   "execution_count": 14,
   "id": "92b43892-f77a-41bc-a06a-1db11c374ed8",
   "metadata": {},
   "outputs": [],
   "source": [
    "import os\n",
    "import datasets\n",
    "import numpy as np\n",
    "from chat import handle_conversation"
   ]
  },
  {
   "cell_type": "code",
   "execution_count": 2,
   "id": "31254781-5277-4ce2-b913-b33714ce3c01",
   "metadata": {},
   "outputs": [],
   "source": [
    "# access entire huggingface database\n",
    "#all_datasets = datasets.list_datasets()\n",
    "#len(all_datasets)"
   ]
  },
  {
   "cell_type": "code",
   "execution_count": 3,
   "id": "6b7411a1-ebce-47d9-9900-bf6780ee165f",
   "metadata": {},
   "outputs": [],
   "source": [
    "ds = datasets.load_dataset('flaviagiammarino/path-vqa')"
   ]
  },
  {
   "cell_type": "code",
   "execution_count": 4,
   "id": "b52a5875-3478-41a4-80f3-a1c55760794c",
   "metadata": {},
   "outputs": [
    {
     "name": "stdout",
     "output_type": "stream",
     "text": [
      "dataset info: DatasetDict({\n",
      "    train: Dataset({\n",
      "        features: ['image', 'question', 'answer'],\n",
      "        num_rows: 19654\n",
      "    })\n",
      "    validation: Dataset({\n",
      "        features: ['image', 'question', 'answer'],\n",
      "        num_rows: 6259\n",
      "    })\n",
      "    test: Dataset({\n",
      "        features: ['image', 'question', 'answer'],\n",
      "        num_rows: 6719\n",
      "    })\n",
      "})\n"
     ]
    }
   ],
   "source": [
    "print(f'dataset info: {ds}')"
   ]
  },
  {
   "cell_type": "code",
   "execution_count": 9,
   "id": "709fc679-de4b-4007-b69a-630cf1556efc",
   "metadata": {},
   "outputs": [],
   "source": [
    "questions = []\n",
    "for train_sample_txt in ds['train']['question'][:10]:\n",
    "    questions.append(train_sample_txt)\n",
    "\n",
    "questions = ds['train']['question']"
   ]
  },
  {
   "cell_type": "code",
   "execution_count": 10,
   "id": "b7b7fe5a-3df4-43a5-9fc2-1cc88d8c5ebd",
   "metadata": {},
   "outputs": [
    {
     "name": "stdout",
     "output_type": "stream",
     "text": [
      "['in the canals of hering', 'bile duct cells and canals of hering', 'foci of fat necrosis', 'yes', 'by nests of closely packed glands', 'no', 'gastrointestinal system', 'gastrointestinal', 'esophagus', 'varices', 'excellent photo typical adenocarcinoma extending through muscularis to serosa', 'yes', 'no', 'gastrointestinal', 'yes', 'yes', 'no', 'colon', 'yes', 'no', 'gastrointestinal system', 'gastrointestinal', 'colon', 'typical infiltrating adenocarcinoma', 'yes', 'no', 'no', 'gastrointestinal', 'yes', 'no']\n"
     ]
    }
   ],
   "source": [
    "answers = ds['train']['answer']\n",
    "print(answers[:30])"
   ]
  },
  {
   "cell_type": "code",
   "execution_count": 12,
   "id": "6f2a85d3-00cd-48cd-be54-8c3b500b9c58",
   "metadata": {},
   "outputs": [
    {
     "name": "stdout",
     "output_type": "stream",
     "text": [
      "['where are liver stem cells (oval cells) located?', 'what are stained here with an immunohistochemical stain for cytokeratin 7?', 'what do the areas of white chalky deposits represent?', 'is embolus derived from a lower-extremity deep venous thrombus lodged in a pulmonary artery branch?', 'how is hyperplasia without atypia characterized?', 'is normal palmar creases present?', 'where is this from?', 'what is present?', 'what is present?', 'what is present?', 'what does this image show?', 'does this image show excellent photo typical adenocarcinoma extending through muscularis to serosa?', 'does typical tuberculous exudate show excellent photo typical adenocarcinoma extending through muscularis to serosa?', 'what is present?', 'is gastrointestinal present?', 'is hyperplasia without atypia characterized by nests of closely packed glands?', 'is mucoepidermoid carcinoma present?', 'what is present?', 'is colon present?', 'is edema present?', 'where is this from?', 'what is present?', 'what is present?', 'what does this image show?', 'does this image show typical infiltrating adenocarcinoma?', 'does retroperitoneal leiomyosarcoma show typical infiltrating adenocarcinoma?', 'is endoscopic view of a longitudinally-oriented mallory-weiss characterized by nests of closely packed glands?', 'what is present?', 'is gastrointestinal present?', 'is adrenal present?']\n"
     ]
    }
   ],
   "source": [
    "print(questions[:30])"
   ]
  },
  {
   "cell_type": "code",
   "execution_count": 26,
   "id": "bdb5204e-784c-4017-86ad-359e72d7f5cf",
   "metadata": {},
   "outputs": [
    {
     "name": "stdout",
     "output_type": "stream",
     "text": [
      "327 4065\n"
     ]
    }
   ],
   "source": [
    "ind = np.array(questions) == 'what is present?'\n",
    "print(len(np.unique(np.array(answers)[ind])), sum(ind))"
   ]
  },
  {
   "cell_type": "code",
   "execution_count": 28,
   "id": "09877122-25a6-412b-8b1b-f3b0cda293ac",
   "metadata": {},
   "outputs": [
    {
     "data": {
      "text/plain": [
       "12.431192660550458"
      ]
     },
     "execution_count": 28,
     "metadata": {},
     "output_type": "execute_result"
    }
   ],
   "source": [
    "4065/327"
   ]
  },
  {
   "cell_type": "code",
   "execution_count": 6,
   "id": "4d2b9da7-d036-4951-a96b-af4a0b4fac90",
   "metadata": {},
   "outputs": [
    {
     "name": "stdout",
     "output_type": "stream",
     "text": [
      "Welcome to LLama neural-chat ChatBot. Type 'exit' to quit\n"
     ]
    },
    {
     "name": "stdin",
     "output_type": "stream",
     "text": [
      "You:  Hi, what can you tell me about questions provided?\n"
     ]
    },
    {
     "name": "stdout",
     "output_type": "stream",
     "text": [
      "AI chatbot:  The questions provided cover a diverse range of topics within the field of medicine and biology. They touch upon different aspects related to anatomy, pathology, histopathology, and medical conditions. Let's break them down for better understanding:\n",
      "\n",
      "1. Location of liver stem cells (oval cells) - This is about the origin and positioning of specific types of stem cells in the liver.\n",
      "2. Immunohistochemistry on cytokeratin 7-stained structures - Immunohistochemistry relates to a technique used to visualize proteins within tissues, while this question refers to a particular protein, cytokeratin 7, and its staining in histopathological samples.\n",
      "3. Interpretation of white chalky deposits - These could be from various etiologies like mineralization or calcification, and might suggest specific medical conditions.\n",
      "4. Presence of embolus in the pulmonary artery branch - This involves understanding how emboli (blood clots) can travel to the lung and cause serious health issues.\n",
      "5. Characterizing hyperplasia without atypia - Hyperplasia is an increase in the number of cells, but not all cases show atypical changes; hence this question focuses on such benign conditions.\n",
      "6. Presence of normal palmar creases - This relates to the anatomy of our hands and the genetic factors that influence their formation.\n",
      "7. Unknown origin of the image - It seeks information about the source or context from which the image was taken.\n",
      "8. Identification of present components, structures, or features in the image - This depends on individual images, which could show a vast array of anatomical or pathological conditions.\n",
      "9. Interpretation and classification of various medical conditions - These questions are about understanding different types of diseases from histopathology to clinical pictures.\n",
      "10. Determination of gastrointestinal involvement (or presence) in medical cases - This question seeks information on the role of the digestive system, particularly when it comes to disease or pathologies.\n",
      "\n"
     ]
    },
    {
     "name": "stdin",
     "output_type": "stream",
     "text": [
      "You:  I have database questions, with their corresponding answers and medical image pairs. The whole dataset represent pathology visual-question-answering dataset with 20k train and 5k validation and test samples. Suggest me cool AI project idea by using this dataset.\n"
     ]
    },
    {
     "name": "stdout",
     "output_type": "stream",
     "text": [
      "AI chatbot:  A potential AI project using this dataset can involve developing a deep learning model for image classification along with natural language understanding, which helps in recognizing pathological conditions depicted in medical images, while answering questions related to anatomy and pathophysiology. The model can utilize the extensive visual-question-answering database to train and refine its understanding of various medical aspects, potentially leading to more accurate diagnoses in clinical settings or aiding medical students with their studies.\n",
      "\n"
     ]
    },
    {
     "name": "stdin",
     "output_type": "stream",
     "text": [
      "You:  What can I train my AI model to do?\n"
     ]
    },
    {
     "name": "stdout",
     "output_type": "stream",
     "text": [
      "AI chatbot:  You can train your AI model on a wide range of tasks within the context of medical image classification and natural language understanding related to pathology, including disease diagnosis, detection, and characterization of pathological conditions. The goal would be to create an accurate and efficient model that enables better visual-question-answering capabilities in healthcare settings or educational resources. This could involve:\n",
      "\n",
      "1. Developing a multi-modal model capable of interpreting both images and text together.\n",
      "2. Utilizing advanced transfer learning techniques for more accurate disease identification.\n",
      "3. Implementing data augmentation methods to prevent overfitting and ensure optimal model performance.\n",
      "4. Continuously updating the dataset with new samples and annotations from medical professionals or researchers.\n",
      "5. Exploring different loss functions and optimizers to find the best trade-off between accuracy and efficiency.\n",
      "6. Developing a user interface that would allow users to ask questions about the images in their database for better understanding of different pathologies.\n",
      "\n"
     ]
    },
    {
     "name": "stdin",
     "output_type": "stream",
     "text": [
      "You:  Other people have developed model that take image and question as an input and predict answer. What else can I do?\n"
     ]
    },
    {
     "name": "stdout",
     "output_type": "stream",
     "text": [
      "AI chatbot:  Beyond developing a model for visual-question-answering, you could also explore other related AI applications with this dataset, such as creating an interactive learning platform for medical students to improve their understanding of pathology, developing an intelligent assistance tool that uses both images and questions to provide doctors with relevant information about various medical conditions, or utilizing the dataset for training custom models in medical image segmentation or classification. Additionally, you could focus on enhancing model performance by incorporating advanced data preprocessing techniques, exploring more efficient algorithms, and incorporating multimodal learning methods that combine different types of inputs such as clinical texts and other medical images.\n",
      "\n"
     ]
    },
    {
     "name": "stdin",
     "output_type": "stream",
     "text": [
      "You:  Tell me more about this: Additionally, you could focus on enhancing model performance by incorporating advanced data preprocessing techniques, exploring more efficient algorithms, and incorporating multimodal learning methods that combine different types of inputs such as clinical texts and other medical images. Answer with 100 caracters.\n"
     ]
    },
    {
     "name": "stdout",
     "output_type": "stream",
     "text": [
      "AI chatbot:  Employ multifaceted approaches to boost AI model performance by leveraging data preprocessing techniques, efficient algorithms, and incorporating multimodal learning methods using various inputs like medical images and clinical texts. This will optimize the overall system's accuracy and efficiency in the field of healthcare and pathology analysis.\n",
      "\n"
     ]
    },
    {
     "name": "stdin",
     "output_type": "stream",
     "text": [
      "You:  this is so usseles.\n"
     ]
    },
    {
     "name": "stdout",
     "output_type": "stream",
     "text": [
      "AI chatbot:  While it may seem useless at first glance, you could consider reframing your perspective on AI applications for medical datasets. Look for different ways to contribute or create value in the broader health sector by exploring various uses of your data and AI capabilities, such as developing more efficient diagnosis tools, improving patient care, streamlining healthcare systems, facilitating healthcare education, and promoting public health awareness through advanced research.\n",
      "\n"
     ]
    },
    {
     "name": "stdin",
     "output_type": "stream",
     "text": [
      "You:  exit\n"
     ]
    }
   ],
   "source": [
    "handle_conversation(questions[:15])"
   ]
  },
  {
   "cell_type": "code",
   "execution_count": null,
   "id": "48a8c736-7479-45e4-a2b3-70b101001e0e",
   "metadata": {},
   "outputs": [],
   "source": []
  }
 ],
 "metadata": {
  "kernelspec": {
   "display_name": "Python 3 (ipykernel)",
   "language": "python",
   "name": "python3"
  },
  "language_info": {
   "codemirror_mode": {
    "name": "ipython",
    "version": 3
   },
   "file_extension": ".py",
   "mimetype": "text/x-python",
   "name": "python",
   "nbconvert_exporter": "python",
   "pygments_lexer": "ipython3",
   "version": "3.12.4"
  }
 },
 "nbformat": 4,
 "nbformat_minor": 5
}
